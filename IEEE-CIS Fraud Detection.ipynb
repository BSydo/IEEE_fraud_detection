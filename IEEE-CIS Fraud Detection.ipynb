{
 "cells": [
  {
   "cell_type": "code",
   "execution_count": 4,
   "metadata": {},
   "outputs": [],
   "source": [
    "import sys\n",
    "import warnings\n",
    "import copy\n",
    "import pandas as pd\n",
    "import numpy as np\n",
    "from sklearn import model_selection, preprocessing, ensemble, metrics, linear_model\n",
    "#, naive_bayes, metrics, svm, decomposition\n",
    "import xgboost\n",
    "from sklearn.preprocessing import MinMaxScaler\n",
    "from imblearn.over_sampling import SMOTE, RandomOverSampler\n",
    "\n",
    "warnings.simplefilter('ignore')\n",
    "\n",
    "input_train_tr = f'{sys.path[0]}/Input/ieee-fraud-detection/train_transaction.csv'\n",
    "input_test_tr = f'{sys.path[0]}/Input/ieee-fraud-detection/test_transaction.csv'\n",
    "input_train_id = f'{sys.path[0]}/Input/ieee-fraud-detection/train_identity.csv'\n",
    "input_test_id = f'{sys.path[0]}/Input/ieee-fraud-detection/test_identity.csv'\n",
    "output_path = f'{sys.path[0]}/output/sample_submission.csv'\n",
    "\n",
    "output = pd.DataFrame()\n",
    "\n",
    "train_transaction = pd.read_csv(input_train_tr)\n",
    "test_transaction = pd.read_csv(input_test_tr)\n",
    "train_identity = pd.read_csv(input_train_id)\n",
    "test_identity = pd.read_csv(input_test_id)\n",
    "\n",
    "#train_ident = train_transaction['TransactionID'].isin(train_identity['TransactionID'])\n",
    "#test_ident = test_transaction['TransactionID'].isin(test_identity['TransactionID'])\n",
    "\n",
    "#train_tr = train_transaction[train_ident == False]\n",
    "tr_dataset = pd.merge(train_transaction, train_identity, how = 'left', on='TransactionID')\n",
    "\n",
    "#test_tr = test_transaction[test_ident == False]\n",
    "fin_test_id = pd.merge(test_transaction, test_identity, how = 'left', on='TransactionID')"
   ]
  },
  {
   "cell_type": "code",
   "execution_count": 5,
   "metadata": {},
   "outputs": [],
   "source": [
    "# label encode the target variable\n",
    "def encode(dataset):\n",
    "\n",
    "    encoder = preprocessing.LabelEncoder()\n",
    "\n",
    "    non_num_cols = [dataset.columns[n] for n,i in enumerate(dataset.dtypes)\n",
    "                    if i not in ('int64','float64')]\n",
    "\n",
    "    #Filling missing string values with most common value\n",
    "    for i in non_num_cols:\n",
    "        dataset[i+'_mod'] = encoder\\\n",
    "                            .fit_transform(dataset[i].fillna(dataset[i]\\\n",
    "                                                             .replace(np.nan\n",
    "                                                                      , '0'\n",
    "                                                                      , regex=True).mode()[0]))\n",
    "\n",
    "    col_list = [x for x in train_transaction.columns if x not in non_num_cols+['isFraud']]\n",
    "    \n",
    "    y = dataset['isFraud']\n",
    "    \n",
    "    dataset = dataset[col_list].fillna(0)\n",
    "\n",
    "    return dataset, y \n",
    "\n",
    "# feature engineering\n",
    "def feature_eng(y, dataset):\n",
    "\n",
    "    x_train = dataset.fillna(0)\n",
    "    print(len(x_train),len(y))\n",
    "    scaler = MinMaxScaler(feature_range = (0,1))\n",
    "\n",
    "    scaler.fit(x_train)\n",
    "    x_train = scaler.transform(x_train)\n",
    "    print(len(x_train),len(y))\n",
    "    #ros = RandomOverSampler(random_state=0)\n",
    "    #x_train, x_valid = ros.fit_resample(x_train, x_valid)\n",
    "    x_train, y = SMOTE().fit_resample(x_train, y)\n",
    "    print(len(x_train),len(y))\n",
    "    return x_train, y\n",
    "\n",
    "# algorithm testing\n",
    "def test_alg(x_train, y_train, x_test, y_test):\n",
    "\n",
    "    RF = ensemble.RandomForestClassifier(n_jobs=-1) #97.25\n",
    "\n",
    "    RF.fit(x_train, y_train)\n",
    "    predictions = RF.predict(x_test)\n",
    "    \n",
    "    accuracy = metrics.accuracy_score(predictions, y_test)\n",
    "    print (f\"RF:{accuracy}\")\n",
    "    #return predictions"
   ]
  },
  {
   "cell_type": "code",
   "execution_count": 6,
   "metadata": {},
   "outputs": [
    {
     "name": "stdout",
     "output_type": "stream",
     "text": [
      "590540 590540\n",
      "590540 590540\n",
      "1139754 1139754\n"
     ]
    }
   ],
   "source": [
    "# mapped id\n",
    "x_train, y = encode(tr_dataset)\n",
    "x_train, y = feature_eng(y, x_train)"
   ]
  },
  {
   "cell_type": "code",
   "execution_count": 13,
   "metadata": {},
   "outputs": [
    {
     "ename": "ValueError",
     "evalue": "Found input variables with inconsistent numbers of samples: [255830, 265830]",
     "output_type": "error",
     "traceback": [
      "\u001b[0;31m---------------------------------------------------------------------------\u001b[0m",
      "\u001b[0;31mValueError\u001b[0m                                Traceback (most recent call last)",
      "\u001b[0;32m<ipython-input-13-bb716e00b0ed>\u001b[0m in \u001b[0;36m<module>\u001b[0;34m\u001b[0m\n\u001b[0;32m----> 1\u001b[0;31m \u001b[0mx_train\u001b[0m\u001b[0;34m,\u001b[0m \u001b[0my_train\u001b[0m\u001b[0;34m,\u001b[0m \u001b[0mx_dev\u001b[0m\u001b[0;34m,\u001b[0m \u001b[0my_dev\u001b[0m \u001b[0;34m=\u001b[0m \u001b[0mmodel_selection\u001b[0m\u001b[0;34m.\u001b[0m\u001b[0mtrain_test_split\u001b[0m\u001b[0;34m(\u001b[0m\u001b[0mx_train\u001b[0m\u001b[0;34m,\u001b[0m \u001b[0my\u001b[0m\u001b[0;34m,\u001b[0m \u001b[0mtest_size\u001b[0m \u001b[0;34m=\u001b[0m \u001b[0;36m0.1\u001b[0m\u001b[0;34m)\u001b[0m\u001b[0;34m\u001b[0m\u001b[0;34m\u001b[0m\u001b[0m\n\u001b[0m\u001b[1;32m      2\u001b[0m \u001b[0;34m\u001b[0m\u001b[0m\n\u001b[1;32m      3\u001b[0m \u001b[0mx_train\u001b[0m\u001b[0;34m,\u001b[0m \u001b[0my_train\u001b[0m\u001b[0;34m,\u001b[0m \u001b[0mx_test\u001b[0m\u001b[0;34m,\u001b[0m \u001b[0my_test\u001b[0m \u001b[0;34m=\u001b[0m \u001b[0mmodel_selection\u001b[0m\u001b[0;34m.\u001b[0m\u001b[0mtrain_test_split\u001b[0m\u001b[0;34m(\u001b[0m\u001b[0mx_train\u001b[0m\u001b[0;34m,\u001b[0m \u001b[0my_train\u001b[0m\u001b[0;34m,\u001b[0m \u001b[0mtest_size\u001b[0m \u001b[0;34m=\u001b[0m \u001b[0;36m0.1\u001b[0m\u001b[0;34m)\u001b[0m\u001b[0;34m\u001b[0m\u001b[0;34m\u001b[0m\u001b[0m\n\u001b[1;32m      4\u001b[0m \u001b[0;34m\u001b[0m\u001b[0m\n\u001b[1;32m      5\u001b[0m \u001b[0mtest_alg\u001b[0m\u001b[0;34m(\u001b[0m\u001b[0mx_train\u001b[0m\u001b[0;34m,\u001b[0m \u001b[0my_train\u001b[0m\u001b[0;34m,\u001b[0m \u001b[0mx_dev\u001b[0m\u001b[0;34m,\u001b[0m \u001b[0my_dev\u001b[0m\u001b[0;34m)\u001b[0m\u001b[0;34m\u001b[0m\u001b[0;34m\u001b[0m\u001b[0m\n",
      "\u001b[0;32m/usr/local/anaconda3/lib/python3.7/site-packages/sklearn/model_selection/_split.py\u001b[0m in \u001b[0;36mtrain_test_split\u001b[0;34m(*arrays, **options)\u001b[0m\n\u001b[1;32m   2094\u001b[0m         \u001b[0;32mraise\u001b[0m \u001b[0mTypeError\u001b[0m\u001b[0;34m(\u001b[0m\u001b[0;34m\"Invalid parameters passed: %s\"\u001b[0m \u001b[0;34m%\u001b[0m \u001b[0mstr\u001b[0m\u001b[0;34m(\u001b[0m\u001b[0moptions\u001b[0m\u001b[0;34m)\u001b[0m\u001b[0;34m)\u001b[0m\u001b[0;34m\u001b[0m\u001b[0;34m\u001b[0m\u001b[0m\n\u001b[1;32m   2095\u001b[0m \u001b[0;34m\u001b[0m\u001b[0m\n\u001b[0;32m-> 2096\u001b[0;31m     \u001b[0marrays\u001b[0m \u001b[0;34m=\u001b[0m \u001b[0mindexable\u001b[0m\u001b[0;34m(\u001b[0m\u001b[0;34m*\u001b[0m\u001b[0marrays\u001b[0m\u001b[0;34m)\u001b[0m\u001b[0;34m\u001b[0m\u001b[0;34m\u001b[0m\u001b[0m\n\u001b[0m\u001b[1;32m   2097\u001b[0m \u001b[0;34m\u001b[0m\u001b[0m\n\u001b[1;32m   2098\u001b[0m     \u001b[0mn_samples\u001b[0m \u001b[0;34m=\u001b[0m \u001b[0m_num_samples\u001b[0m\u001b[0;34m(\u001b[0m\u001b[0marrays\u001b[0m\u001b[0;34m[\u001b[0m\u001b[0;36m0\u001b[0m\u001b[0;34m]\u001b[0m\u001b[0;34m)\u001b[0m\u001b[0;34m\u001b[0m\u001b[0;34m\u001b[0m\u001b[0m\n",
      "\u001b[0;32m/usr/local/anaconda3/lib/python3.7/site-packages/sklearn/utils/validation.py\u001b[0m in \u001b[0;36mindexable\u001b[0;34m(*iterables)\u001b[0m\n\u001b[1;32m    228\u001b[0m         \u001b[0;32melse\u001b[0m\u001b[0;34m:\u001b[0m\u001b[0;34m\u001b[0m\u001b[0;34m\u001b[0m\u001b[0m\n\u001b[1;32m    229\u001b[0m             \u001b[0mresult\u001b[0m\u001b[0;34m.\u001b[0m\u001b[0mappend\u001b[0m\u001b[0;34m(\u001b[0m\u001b[0mnp\u001b[0m\u001b[0;34m.\u001b[0m\u001b[0marray\u001b[0m\u001b[0;34m(\u001b[0m\u001b[0mX\u001b[0m\u001b[0;34m)\u001b[0m\u001b[0;34m)\u001b[0m\u001b[0;34m\u001b[0m\u001b[0;34m\u001b[0m\u001b[0m\n\u001b[0;32m--> 230\u001b[0;31m     \u001b[0mcheck_consistent_length\u001b[0m\u001b[0;34m(\u001b[0m\u001b[0;34m*\u001b[0m\u001b[0mresult\u001b[0m\u001b[0;34m)\u001b[0m\u001b[0;34m\u001b[0m\u001b[0;34m\u001b[0m\u001b[0m\n\u001b[0m\u001b[1;32m    231\u001b[0m     \u001b[0;32mreturn\u001b[0m \u001b[0mresult\u001b[0m\u001b[0;34m\u001b[0m\u001b[0;34m\u001b[0m\u001b[0m\n\u001b[1;32m    232\u001b[0m \u001b[0;34m\u001b[0m\u001b[0m\n",
      "\u001b[0;32m/usr/local/anaconda3/lib/python3.7/site-packages/sklearn/utils/validation.py\u001b[0m in \u001b[0;36mcheck_consistent_length\u001b[0;34m(*arrays)\u001b[0m\n\u001b[1;32m    203\u001b[0m     \u001b[0;32mif\u001b[0m \u001b[0mlen\u001b[0m\u001b[0;34m(\u001b[0m\u001b[0muniques\u001b[0m\u001b[0;34m)\u001b[0m \u001b[0;34m>\u001b[0m \u001b[0;36m1\u001b[0m\u001b[0;34m:\u001b[0m\u001b[0;34m\u001b[0m\u001b[0;34m\u001b[0m\u001b[0m\n\u001b[1;32m    204\u001b[0m         raise ValueError(\"Found input variables with inconsistent numbers of\"\n\u001b[0;32m--> 205\u001b[0;31m                          \" samples: %r\" % [int(l) for l in lengths])\n\u001b[0m\u001b[1;32m    206\u001b[0m \u001b[0;34m\u001b[0m\u001b[0m\n\u001b[1;32m    207\u001b[0m \u001b[0;34m\u001b[0m\u001b[0m\n",
      "\u001b[0;31mValueError\u001b[0m: Found input variables with inconsistent numbers of samples: [255830, 265830]"
     ]
    }
   ],
   "source": [
    "x_train, y_train, x_dev, y_dev = model_selection.train_test_split(x_train, y, test_size = 0.01)\n",
    "\n",
    "x_train, y_train, x_test, y_test = model_selection.train_test_split(x_train, y_train, test_size = 0.1)\n",
    "\n",
    "test_alg(x_train, y_train, x_dev, y_dev)\n",
    "test_alg(x_dev, y_dev, x_test, y_test)\n",
    "test_alg(x_train, y_train, x_test, y_test)"
   ]
  },
  {
   "cell_type": "code",
   "execution_count": null,
   "metadata": {},
   "outputs": [],
   "source": []
  },
  {
   "cell_type": "raw",
   "metadata": {},
   "source": [
    "id_id = pd.merge(test_transaction[test_ident == True]\n",
    "                           , test_identity\n",
    "                           , on='TransactionID')['TransactionID'].tolist()\n",
    "\n",
    "tr_id = test_transaction[test_ident == False]['TransactionID'].tolist()\n",
    "\n",
    "print(type(id_predictions))\n",
    "print(type(id_id))\n",
    "print(type(tr_predictions))\n",
    "print(type(tr_id))"
   ]
  },
  {
   "cell_type": "raw",
   "metadata": {},
   "source": [
    "output = pd.DataFrame()\n",
    "output['TransactionID'] = (id_id + tr_id)\n",
    "output['isFraud'] = list(id_predictions) + list(tr_predictions)\n",
    "output.to_csv(output_path, index=False)"
   ]
  },
  {
   "cell_type": "code",
   "execution_count": null,
   "metadata": {},
   "outputs": [],
   "source": []
  }
 ],
 "metadata": {
  "kernelspec": {
   "display_name": "Python 3",
   "language": "python",
   "name": "python3"
  },
  "language_info": {
   "codemirror_mode": {
    "name": "ipython",
    "version": 3
   },
   "file_extension": ".py",
   "mimetype": "text/x-python",
   "name": "python",
   "nbconvert_exporter": "python",
   "pygments_lexer": "ipython3",
   "version": "3.7.3"
  }
 },
 "nbformat": 4,
 "nbformat_minor": 2
}
