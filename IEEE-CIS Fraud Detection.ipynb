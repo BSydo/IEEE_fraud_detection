{
 "cells": [
  {
   "cell_type": "markdown",
   "metadata": {},
   "source": [
    "# IEEE-CIS Fraud Detection - data analisys"
   ]
  },
  {
   "cell_type": "code",
   "execution_count": 1,
   "metadata": {},
   "outputs": [],
   "source": [
    "import sys\n",
    "import warnings\n",
    "import pandas as pd\n",
    "import numpy as np\n",
    "from sklearn import model_selection, preprocessing, ensemble, metrics\n",
    "#linear_model, naive_bayes, metrics, svm, decomposition\n",
    "#import xgboost \n",
    "\n",
    "\n",
    "warnings.simplefilter('ignore')\n",
    "__location__ = sys.path[0] \n",
    "output_path = f'{__location__}/Input/ieee-fraud-detection/sample_submission.csv'"
   ]
  },
  {
   "cell_type": "code",
   "execution_count": null,
   "metadata": {},
   "outputs": [],
   "source": [
    "#train_identity = pd.read_csv(f'{__location__}/Input/ieee-fraud-detection/train_identity.csv')\n",
    "train_transaction = pd.read_csv(f'{__location__}/Input/ieee-fraud-detection/train_transaction.csv')\n",
    "#test_identity = pd.read_csv(f'{__location__}/Input/ieee-fraud-detection/test_identity.csv')\n",
    "#test_transaction = pd.read_csv(f'{__location__}/Input/ieee-fraud-detection/test_transaction.csv')"
   ]
  },
  {
   "cell_type": "code",
   "execution_count": null,
   "metadata": {},
   "outputs": [],
   "source": [
    "non_num_cols = [train_transaction.columns[n] for n,i in enumerate(train_transaction.dtypes)\n",
    "                if i not in ('int64','float64')]\n",
    "#train_transaction[non_num_cols]"
   ]
  },
  {
   "cell_type": "code",
   "execution_count": null,
   "metadata": {},
   "outputs": [],
   "source": [
    "# label encode the target variable \n",
    "encoder = preprocessing.LabelEncoder()\n",
    "\n",
    "\n",
    "for i in non_num_cols:\n",
    "    #Filling missing string values with most common value\n",
    "    train_transaction['mod_'+i] = encoder.fit_transform(train_transaction[i].fillna(train_transaction[i].mode()[0]))\n",
    "    #test_transaction['mod_'+i] = encoder.fit_transform(test_transaction[i].fillna(test_transaction[i].mode()[0])\n",
    "\n",
    "    "
   ]
  },
  {
   "cell_type": "code",
   "execution_count": null,
   "metadata": {},
   "outputs": [],
   "source": [
    "col_list = [x for x in train_transaction.columns if x not in non_num_cols+['isFraud']]\n",
    "\n",
    "x_train, y_train, x_valid, y_valid = model_selection.train_test_split(train_transaction[col_list].fillna(0)\n",
    "                                                                      , train_transaction['isFraud']\n",
    "                                                                      , test_size=0.9\n",
    "                                                                     )"
   ]
  },
  {
   "cell_type": "code",
   "execution_count": null,
   "metadata": {},
   "outputs": [],
   "source": [
    "max_features = list(range(1,train.shape[1]))\n",
    "\n",
    "for max_feature in max_features:\n",
    "    # RF\n",
    "    RF = ensemble.RandomForestClassifier(n_estimators=31\n",
    "                                         , n_jobs=-1\n",
    "                                         , max_depth=31\n",
    "                                         , min_samples_split = 0.3\n",
    "                                         , max_features = max_feature\n",
    "                                        )\n",
    "    RF.fit(x_train, x_valid)\n",
    "    predictions = RF.predict(y_train)\n",
    "    accuracy = metrics.accuracy_score(predictions, y_valid)\n",
    "    print (f\"RF, min_samples_leafs={min_samples_leaf}: \", accuracy)\n",
    "\n",
    "    # RF\n",
    "#    RF = ensemble.RandomForestClassifier(n_estimators=50, min_samples_leaf=25)\n",
    "#    RF.fit(x_train, x_valid)\n",
    "#    predictions = RF.predict(y_train)\n",
    "#    accuracy = metrics.accuracy_score(predictions, y_valid)\n",
    "#    print (\"RF: \", accuracy)\n"
   ]
  },
  {
   "cell_type": "code",
   "execution_count": null,
   "metadata": {},
   "outputs": [],
   "source": []
  }
 ],
 "metadata": {
  "kernelspec": {
   "display_name": "Python 3",
   "language": "python",
   "name": "python3"
  },
  "language_info": {
   "codemirror_mode": {
    "name": "ipython",
    "version": 3
   },
   "file_extension": ".py",
   "mimetype": "text/x-python",
   "name": "python",
   "nbconvert_exporter": "python",
   "pygments_lexer": "ipython3",
   "version": "3.7.3"
  }
 },
 "nbformat": 4,
 "nbformat_minor": 2
}
