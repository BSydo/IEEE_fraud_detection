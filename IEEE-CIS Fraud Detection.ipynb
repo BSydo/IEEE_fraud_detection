{
 "cells": [
  {
   "cell_type": "code",
   "execution_count": 1,
   "metadata": {},
   "outputs": [
    {
     "name": "stderr",
     "output_type": "stream",
     "text": [
      "Using TensorFlow backend.\n"
     ]
    }
   ],
   "source": [
    "import sys\n",
    "import warnings\n",
    "import copy\n",
    "import pandas as pd\n",
    "import numpy as np\n",
    "from sklearn import model_selection, preprocessing, ensemble, metrics, linear_model\n",
    "#, naive_bayes, metrics, svm, decomposition\n",
    "import xgboost\n",
    "from sklearn.preprocessing import MinMaxScaler\n",
    "from imblearn.over_sampling import SMOTE, RandomOverSampler\n",
    "\n",
    "warnings.simplefilter('ignore')\n",
    "\n",
    "input_train_tr = f'{sys.path[0]}/Input/ieee-fraud-detection/train_transaction.csv'\n",
    "input_test_tr = f'{sys.path[0]}/Input/ieee-fraud-detection/test_transaction.csv'\n",
    "input_train_id = f'{sys.path[0]}/Input/ieee-fraud-detection/train_identity.csv'\n",
    "input_test_id = f'{sys.path[0]}/Input/ieee-fraud-detection/test_identity.csv'\n",
    "output_path = f'{sys.path[0]}/output/sample_submission.csv'\n",
    "\n",
    "output = pd.DataFrame()\n",
    "\n",
    "train_transaction = pd.read_csv(input_train_tr)\n",
    "test_transaction = pd.read_csv(input_test_tr)\n",
    "train_identity = pd.read_csv(input_train_id)\n",
    "test_identity = pd.read_csv(input_test_id)\n",
    "\n",
    "train_ident = train_transaction['TransactionID'].isin(train_identity['TransactionID'])\n",
    "test_ident = test_transaction['TransactionID'].isin(test_identity['TransactionID'])\n",
    "\n",
    "train_tr = train_transaction[train_ident == False]\n",
    "train_id = pd.merge(train_transaction[train_ident == True], train_identity, on='TransactionID')\n",
    "\n",
    "test_tr = test_transaction[test_ident == False]\n",
    "test_id = pd.merge(test_transaction[test_ident == True], test_identity, on='TransactionID')"
   ]
  },
  {
   "cell_type": "code",
   "execution_count": 2,
   "metadata": {},
   "outputs": [],
   "source": [
    "# label encode the target variable\n",
    "def encode(dataset):\n",
    "\n",
    "    encoder = preprocessing.LabelEncoder()\n",
    "\n",
    "    non_num_cols = [dataset.columns[n] for n,i in enumerate(dataset.dtypes)\n",
    "                    if i not in ('int64','float64')]\n",
    "\n",
    "    #Filling missing string values with most common value\n",
    "    for i in non_num_cols:\n",
    "        dataset[i+'_mod'] = encoder\\\n",
    "                            .fit_transform(dataset[i].fillna(dataset[i]\\\n",
    "                                                             .replace(np.nan\n",
    "                                                                      , '0'\n",
    "                                                                      , regex=True).mode()[0]))\n",
    "\n",
    "    col_list = [x for x in train_transaction.columns if x not in non_num_cols+['isFraud']]\n",
    "\n",
    "    dataset = dataset[col_list].fillna(0)\n",
    "\n",
    "    return dataset, col_list\n",
    "\n",
    "# feature engineering\n",
    "def feature_eng(init_ds, train_dataset, test_dataset):\n",
    "\n",
    "    x_train = train_dataset.fillna(0)\n",
    "    y_train = test_dataset.fillna(0)\n",
    "    x_valid = init_ds['isFraud']\n",
    "\n",
    "    scaler = MinMaxScaler(feature_range = (0,1))\n",
    "\n",
    "    scaler.fit(x_train)\n",
    "    x_train = scaler.transform(x_train)\n",
    "    y_train = scaler.transform(y_train)\n",
    "\n",
    "\n",
    "    #ros = RandomOverSampler(random_state=0)\n",
    "    #x_train, x_valid = ros.fit_resample(x_train, x_valid)\n",
    "    x_train, x_valid = SMOTE().fit_resample(x_train, x_valid)\n",
    "\n",
    "    return x_train, y_train, x_valid\n",
    "\n",
    "# algorithm testing\n",
    "def test_alg(x_train, y_train, x_valid):\n",
    "\n",
    "    RF = ensemble.RandomForestClassifier(n_jobs=-1) #97.25\n",
    "\n",
    "    RF.fit(x_train, x_valid)\n",
    "    predictions = RF.predict(y_train)\n",
    "\n",
    "    return predictions"
   ]
  },
  {
   "cell_type": "code",
   "execution_count": 3,
   "metadata": {},
   "outputs": [],
   "source": [
    "# mapped id\n",
    "train_id_enc, col_list = encode(train_id)\n",
    "test_id_enc, col_list = encode(test_id)\n",
    "\n",
    "x_train, y_train, x_valid = feature_eng(pd.merge(train_transaction[train_ident == True]\n",
    "                                                          , train_identity\n",
    "                                                          , on='TransactionID')\n",
    "                                                 , train_id_enc\n",
    "                                                 , test_id_enc\n",
    "                                                )\n",
    "id_predictions = copy.deepcopy(test_alg(x_train, y_train, x_valid))\n"
   ]
  },
  {
   "cell_type": "code",
   "execution_count": 4,
   "metadata": {},
   "outputs": [],
   "source": [
    "# no id\n",
    "train_tr_enc, col_list = encode(train_tr)\n",
    "test_tr_enc, col_list = encode(test_tr)\n",
    "\n",
    "x_train, y_train, x_valid = feature_eng(train_transaction[train_ident == False]\n",
    "                                        , train_tr_enc\n",
    "                                        , test_tr_enc\n",
    "                                       )\n",
    "tr_predictions = copy.deepcopy(test_alg(x_train, y_train, x_valid))"
   ]
  },
  {
   "cell_type": "code",
   "execution_count": 20,
   "metadata": {},
   "outputs": [
    {
     "name": "stdout",
     "output_type": "stream",
     "text": [
      "<class 'numpy.ndarray'>\n",
      "<class 'list'>\n",
      "<class 'numpy.ndarray'>\n",
      "<class 'list'>\n"
     ]
    }
   ],
   "source": [
    "id_id = pd.merge(test_transaction[test_ident == True]\n",
    "                           , test_identity\n",
    "                           , on='TransactionID')['TransactionID'].tolist()\n",
    "\n",
    "tr_id = test_transaction[test_ident == False]['TransactionID'].tolist()\n",
    "\n",
    "print(type(id_predictions))\n",
    "print(type(id_id))\n",
    "print(type(tr_predictions))\n",
    "print(type(tr_id))"
   ]
  },
  {
   "cell_type": "code",
   "execution_count": 28,
   "metadata": {},
   "outputs": [],
   "source": [
    "output = pd.DataFrame()\n",
    "output['TransactionID'] = (id_id + tr_id)\n",
    "output['isFraud'] = list(id_predictions) + list(tr_predictions)\n",
    "output.to_csv(output_path, index=False)"
   ]
  },
  {
   "cell_type": "code",
   "execution_count": null,
   "metadata": {},
   "outputs": [],
   "source": []
  }
 ],
 "metadata": {
  "kernelspec": {
   "display_name": "Python 3",
   "language": "python",
   "name": "python3"
  },
  "language_info": {
   "codemirror_mode": {
    "name": "ipython",
    "version": 3
   },
   "file_extension": ".py",
   "mimetype": "text/x-python",
   "name": "python",
   "nbconvert_exporter": "python",
   "pygments_lexer": "ipython3",
   "version": "3.7.3"
  }
 },
 "nbformat": 4,
 "nbformat_minor": 2
}
