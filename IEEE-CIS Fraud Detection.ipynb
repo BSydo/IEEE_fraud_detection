{
 "cells": [
  {
   "cell_type": "markdown",
   "metadata": {},
   "source": [
    "# IEEE-CIS Fraud Detection - data analisys"
   ]
  },
  {
   "cell_type": "code",
   "execution_count": 1,
   "metadata": {},
   "outputs": [
    {
     "name": "stderr",
     "output_type": "stream",
     "text": [
      "Using TensorFlow backend.\n"
     ]
    }
   ],
   "source": [
    "import sys\n",
    "import warnings\n",
    "import pandas as pd\n",
    "import numpy as np\n",
    "from sklearn import model_selection, preprocessing, ensemble, metrics, linear_model, svm\n",
    "#, naive_bayes, metrics, svm, decomposition\n",
    "import xgboost \n",
    "from sklearn.preprocessing import MinMaxScaler\n",
    "from imblearn.over_sampling import SMOTE\n",
    "\n",
    "warnings.simplefilter('ignore')\n",
    "__location__ = sys.path[0] \n",
    "output_path = f'{__location__}/Input/ieee-fraud-detection/sample_submission.csv'"
   ]
  },
  {
   "cell_type": "code",
   "execution_count": 2,
   "metadata": {},
   "outputs": [],
   "source": [
    "#train_identity = pd.read_csv(f'{__location__}/Input/ieee-fraud-detection/train_identity.csv')\n",
    "train_transaction = pd.read_csv(f'{__location__}/Input/ieee-fraud-detection/train_transaction.csv')\n",
    "#test_identity = pd.read_csv(f'{__location__}/Input/ieee-fraud-detection/test_identity.csv')\n",
    "#test_transaction = pd.read_csv(f'{__location__}/Input/ieee-fraud-detection/test_transaction.csv')"
   ]
  },
  {
   "cell_type": "code",
   "execution_count": 3,
   "metadata": {},
   "outputs": [],
   "source": [
    "# label encode the target variable \n",
    "encoder = preprocessing.LabelEncoder()\n",
    "\n",
    "non_num_cols = [train_transaction.columns[n] for n,i in enumerate(train_transaction.dtypes)\n",
    "                if i not in ('int64','float64')]\n",
    "\n",
    "for i in non_num_cols:\n",
    "    #Filling missing string values with most common value\n",
    "    train_transaction['mod_'+i] = encoder.fit_transform(train_transaction[i].fillna(train_transaction[i].mode()[0]))\n",
    "    #test_transaction['mod_'+i] = encoder.fit_transform(test_transaction[i].fillna(test_transaction[i].mode()[0])"
   ]
  },
  {
   "cell_type": "code",
   "execution_count": 4,
   "metadata": {},
   "outputs": [],
   "source": [
    "col_list = [x for x in train_transaction.columns if x not in non_num_cols+['isFraud']]\n",
    "\n",
    "x_train, y_train, x_valid, y_valid = model_selection.train_test_split(train_transaction[col_list].fillna(0)\n",
    "                                                                      , train_transaction['isFraud']\n",
    "                                                                      , test_size=0.9\n",
    "                                                                     )\n",
    "scaler = MinMaxScaler(feature_range = (0,1))\n",
    "\n",
    "scaler.fit(x_train)\n",
    "x_train = scaler.transform(x_train)\n",
    "y_train = scaler.transform(y_train)"
   ]
  },
  {
   "cell_type": "code",
   "execution_count": 6,
   "metadata": {},
   "outputs": [],
   "source": [
    "from imblearn.over_sampling import RandomOverSampler\n",
    "#ros = RandomOverSampler(random_state=0)\n",
    "#x_train, x_valid = ros.fit_resample(x_train, x_valid)\n",
    "x_train, x_valid = SMOTE().fit_resample(x_train, x_valid)"
   ]
  },
  {
   "cell_type": "code",
   "execution_count": 14,
   "metadata": {},
   "outputs": [
    {
     "name": "stdout",
     "output_type": "stream",
     "text": [
      "RF, xx=0:  0.9725147981320298\n",
      "LR, c_params_range=100:  0.7994246320693301\n"
     ]
    }
   ],
   "source": [
    "RF = ensemble.RandomForestClassifier(n_jobs=-1) #97.25\n",
    "RF.fit(x_train, x_valid)\n",
    "predictions = RF.predict(y_train)\n",
    "accuracy = metrics.accuracy_score(predictions, y_valid)\n",
    "print (f\"RF, xx={0}: \", accuracy)\n",
    "\n",
    "\n",
    "LR = linear_model.LogisticRegression()#penalty = 'l2', C = 100) -- 82.66\n",
    "\n",
    "LR.fit(x_train, x_valid)\n",
    "predictions = LR.predict(y_train)\n",
    "accuracy = metrics.accuracy_score(predictions, y_valid)\n",
    "print (f\"LR, c_params_range={100}: \", accuracy)"
   ]
  },
  {
   "cell_type": "code",
   "execution_count": 17,
   "metadata": {},
   "outputs": [
    {
     "name": "stdout",
     "output_type": "stream",
     "text": [
      "XGb:  0.8819554983574356\n"
     ]
    }
   ],
   "source": [
    "XGb = xgboost.XGBClassifier(silent=False, \n",
    "                            #scale_pos_weight=1,\n",
    "                            learning_rate=0.01,  \n",
    "                            #colsample_bytree = 0.4,\n",
    "                            #subsample = 0.8,\n",
    "                            #objective='binary:logistic', \n",
    "                            n_estimators=100#, \n",
    "                            #reg_alpha = 0.3,\n",
    "                            #max_depth=4, \n",
    "                            #gamma=10\n",
    "                           ) \n",
    "#() 96\n",
    "\n",
    "XGb.fit(x_train, x_valid)\n",
    "predictions = XGb.predict(y_train)\n",
    "accuracy = metrics.accuracy_score(predictions, y_valid)\n",
    "print (f\"XGb: \", accuracy)"
   ]
  },
  {
   "cell_type": "code",
   "execution_count": null,
   "metadata": {},
   "outputs": [],
   "source": []
  }
 ],
 "metadata": {
  "kernelspec": {
   "display_name": "Python 3",
   "language": "python",
   "name": "python3"
  },
  "language_info": {
   "codemirror_mode": {
    "name": "ipython",
    "version": 3
   },
   "file_extension": ".py",
   "mimetype": "text/x-python",
   "name": "python",
   "nbconvert_exporter": "python",
   "pygments_lexer": "ipython3",
   "version": "3.7.3"
  }
 },
 "nbformat": 4,
 "nbformat_minor": 2
}
