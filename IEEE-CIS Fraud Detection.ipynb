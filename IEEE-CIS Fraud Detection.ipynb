{
 "cells": [
  {
   "cell_type": "markdown",
   "metadata": {},
   "source": [
    "# IEEE-CIS Fraud Detection - data analisys"
   ]
  },
  {
   "cell_type": "code",
   "execution_count": 1,
   "metadata": {},
   "outputs": [
    {
     "name": "stderr",
     "output_type": "stream",
     "text": [
      "Using TensorFlow backend.\n"
     ]
    }
   ],
   "source": [
    "import sys\n",
    "import warnings\n",
    "import pandas as pd\n",
    "import numpy as np\n",
    "from sklearn import model_selection, preprocessing, ensemble, metrics, linear_model, svm\n",
    "#, naive_bayes, metrics, svm, decomposition\n",
    "#import xgboost \n",
    "from sklearn.preprocessing import MinMaxScaler\n",
    "from imblearn.over_sampling import SMOTE\n",
    "\n",
    "warnings.simplefilter('ignore')\n",
    "__location__ = sys.path[0] \n",
    "output_path = f'{__location__}/Input/ieee-fraud-detection/sample_submission.csv'"
   ]
  },
  {
   "cell_type": "code",
   "execution_count": 2,
   "metadata": {},
   "outputs": [],
   "source": [
    "#train_identity = pd.read_csv(f'{__location__}/Input/ieee-fraud-detection/train_identity.csv')\n",
    "train_transaction = pd.read_csv(f'{__location__}/Input/ieee-fraud-detection/train_transaction.csv')\n",
    "#test_identity = pd.read_csv(f'{__location__}/Input/ieee-fraud-detection/test_identity.csv')\n",
    "#test_transaction = pd.read_csv(f'{__location__}/Input/ieee-fraud-detection/test_transaction.csv')"
   ]
  },
  {
   "cell_type": "code",
   "execution_count": 3,
   "metadata": {},
   "outputs": [],
   "source": [
    "# label encode the target variable \n",
    "encoder = preprocessing.LabelEncoder()\n",
    "\n",
    "non_num_cols = [train_transaction.columns[n] for n,i in enumerate(train_transaction.dtypes)\n",
    "                if i not in ('int64','float64')]\n",
    "\n",
    "for i in non_num_cols:\n",
    "    #Filling missing string values with most common value\n",
    "    train_transaction['mod_'+i] = encoder.fit_transform(train_transaction[i].fillna(train_transaction[i].mode()[0]))\n",
    "    #test_transaction['mod_'+i] = encoder.fit_transform(test_transaction[i].fillna(test_transaction[i].mode()[0])"
   ]
  },
  {
   "cell_type": "code",
   "execution_count": 4,
   "metadata": {},
   "outputs": [],
   "source": [
    "col_list = [x for x in train_transaction.columns if x not in non_num_cols+['isFraud']]\n",
    "\n",
    "x_train, y_train, x_valid, y_valid = model_selection.train_test_split(train_transaction[col_list].fillna(0)\n",
    "                                                                      , train_transaction['isFraud']\n",
    "                                                                      , test_size=0.9\n",
    "                                                                     )\n",
    "scaler = MinMaxScaler(feature_range = (0,1))\n",
    "\n",
    "scaler.fit(x_train)\n",
    "x_train = scaler.transform(x_train)\n",
    "y_train = scaler.transform(y_train)"
   ]
  },
  {
   "cell_type": "code",
   "execution_count": 5,
   "metadata": {},
   "outputs": [],
   "source": [
    "#sm = SMOTE(random_state = 2)\n",
    "#x_train, y_train = sm.fit_resample(x_train, y_train)"
   ]
  },
  {
   "cell_type": "code",
   "execution_count": 6,
   "metadata": {},
   "outputs": [
    {
     "name": "stdout",
     "output_type": "stream",
     "text": [
      "RF, xx=0:  0.9649304026822908\n",
      "LR, c_params_range=0.001:  0.9648871277888788\n",
      "LR, c_params_range=0.01:  0.9652464975559093\n",
      "LR, c_params_range=0.1:  0.9676510764159357\n",
      "LR, c_params_range=1:  0.969822347154958\n",
      "LR, c_params_range=10:  0.9706276364758432\n",
      "LR, c_params_range=100:  0.9709700725889299\n"
     ]
    }
   ],
   "source": [
    "RF = ensemble.RandomForestClassifier(n_estimators=31\n",
    "                                     , n_jobs=-1\n",
    "                                     , max_depth=31\n",
    "                                     , min_samples_split = 0.3\n",
    "                                    )\n",
    "RF.fit(x_train, x_valid)\n",
    "predictions = RF.predict(y_train)\n",
    "accuracy = metrics.accuracy_score(predictions, y_valid)\n",
    "print (f\"RF, xx={0}: \", accuracy)\n",
    "\n",
    "\n",
    "LR = linear_model.LogisticRegression(penalty = 'l2', C = 100)\n",
    "\n",
    "LR.fit(x_train, x_valid)\n",
    "predictions = LR.predict(y_train)\n",
    "accuracy = metrics.accuracy_score(predictions, y_valid)\n",
    "print (f\"LR, c_params_range={100}: \", accuracy)"
   ]
  },
  {
   "cell_type": "code",
   "execution_count": null,
   "metadata": {},
   "outputs": [],
   "source": [
    "kernels = ['linear', 'rbf', 'poly']\n",
    "\n",
    "for kernel in kernels:\n",
    "    svc = svm.SVC(kernel=kernel).fit(x_train, x_valid)\n",
    "    predictions = svc.predict(y_train)\n",
    "    accuracy = metrics.accuracy_score(predictions, y_valid)\n",
    "    print (f\"SVC, kernel={kernel}: \", accuracy)"
   ]
  },
  {
   "cell_type": "code",
   "execution_count": null,
   "metadata": {},
   "outputs": [],
   "source": []
  }
 ],
 "metadata": {
  "kernelspec": {
   "display_name": "Python 3",
   "language": "python",
   "name": "python3"
  },
  "language_info": {
   "codemirror_mode": {
    "name": "ipython",
    "version": 3
   },
   "file_extension": ".py",
   "mimetype": "text/x-python",
   "name": "python",
   "nbconvert_exporter": "python",
   "pygments_lexer": "ipython3",
   "version": "3.7.3"
  }
 },
 "nbformat": 4,
 "nbformat_minor": 2
}
